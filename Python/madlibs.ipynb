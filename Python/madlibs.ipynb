{
 "cells": [
  {
   "cell_type": "code",
   "execution_count": 1,
   "id": "87b942ce-d71a-44c9-b90b-c024293964de",
   "metadata": {},
   "outputs": [],
   "source": [
    "from IPython.display import display, Markdown\n",
    "import time\n",
    "import ipywidgets as widgets\n",
    "from dotenv import load_dotenv\n",
    "import os"
   ]
  },
  {
   "cell_type": "code",
   "execution_count": 2,
   "id": "d137bdb3-51be-42c6-9df5-3ccd9d4f9b08",
   "metadata": {},
   "outputs": [],
   "source": [
    "# Substitutions for the template\n",
    "template_sub = [\n",
    "    '[Procedure Title]',    # Title of the procedure\n",
    "    '[action verb]',        # Action to be taken\n",
    "    '[noun]',               # General noun\n",
    "    '[plural noun]',        # Plural noun\n",
    "    '[adjective]',          # Adjective\n",
    "    '[number]',             # Number\n",
    "    '[time unit]'          # Unit of time\n",
    "]\n",
    "\n",
    "# Technical procedure template filled for changing the oil\n",
    "technical_procedure_template = (\n",
    "    \"Technical Procedure Template: **\" + template_sub[0] + \"**\\n\\n\" +\n",
    "    \"Objective:\\n\\n\" +\n",
    "    \"The objective of this procedure is to **\" + template_sub[1] + \"** the **\" + template_sub[2] + \"** effectively.\\n\\n\" +\n",
    "    \"Materials Needed:\\n\" +\n",
    "    \"1. **\" + template_sub[3] + \"**\\n\" +\n",
    "    \"2. **\" + template_sub[2] + \"**\\n\" +\n",
    "    \"3. **\" + template_sub[4] + \"** **\" + template_sub[2] + \"**\\n\\n\" +\n",
    "    \"Procedure Steps:\\n\" +\n",
    "    \"1. **\" + template_sub[1] + \"** the **\" + template_sub[2] + \"** using **\" + template_sub[3] + \"**.\\n\" +\n",
    "    \"2. Carefully **\" + template_sub[1] + \"** the **\" + template_sub[2] + \"** to ensure **\" + template_sub[4] + \"** **\" + template_sub[2] + \"**.\\n\" +\n",
    "    \"3. **\" + template_sub[1] + \"** the **\" + template_sub[2] + \"** until it is **\" + template_sub[4] + \"**.\\n\" +\n",
    "    \"4. Allow the **\" + template_sub[2] + \"** to **\" + template_sub[1] + \"** for **\" + template_sub[5] + \"** **\" + template_sub[6] + \"**.\\n\" +\n",
    "    \"5. Finally, **\" + template_sub[1] + \"** the **\" + template_sub[2] + \"** to verify that it is **\" + template_sub[4] + \"**.\\n\\n\" +\n",
    "    \"Safety Precautions:\\n\" +\n",
    "    \"- Always have **\" + template_sub[3] + \"** when handling **\" + template_sub[2] + \"**.\\n\" +\n",
    "    \"- Ensure that the **\" + template_sub[2] + \"** is **\" + template_sub[4] + \"** before **\" + template_sub[1] + \"**.\"\n",
    ")"
   ]
  },
  {
   "cell_type": "code",
   "execution_count": 3,
   "id": "a628acd8-e7cd-41ea-9313-55c4ac22b0e7",
   "metadata": {},
   "outputs": [],
   "source": [
    "# FOR GENERATING SHITS ONLY\n",
    "import google.generativeai as genai\n",
    "\n",
    "load_dotenv()\n",
    "GOOGLE_API_KEY = os.getenv('GOOGLE_API_KEY')\n",
    "genai.configure(api_key=GOOGLE_API_KEY)"
   ]
  },
  {
   "cell_type": "code",
   "execution_count": 4,
   "id": "be3f98e9-86ee-4d4e-a7dd-6a0499f9977f",
   "metadata": {},
   "outputs": [],
   "source": [
    "def generate_string(s):\n",
    "    # prompt string\n",
    "    prompt_string = (\n",
    "        \"Create an example for a \" + s + \" using this template \" + str(template_sub) + \" for substitution\\n\" +\n",
    "        \"with this as the main technical procedure template:\\n\" + technical_procedure_template\n",
    "    )\n",
    "    \n",
    "    model = genai.GenerativeModel(\"gemini-1.5-flash\")\n",
    "    \n",
    "    # Generate content\n",
    "    response = model.generate_content(prompt_string)\n",
    "    return response.text"
   ]
  },
  {
   "cell_type": "code",
   "execution_count": 5,
   "id": "411e88a8-48c6-4ea9-9bc5-407cf63ec40b",
   "metadata": {},
   "outputs": [],
   "source": [
    "style = {'description_width': 'initial'}\n",
    "\n",
    "text = widgets.Text(\n",
    "\n",
    "    placeholder='Type something...',\n",
    "    description='Mad Libs Topic:',\n",
    "    disabled=False,\n",
    "    style=style\n",
    ")\n",
    "\n",
    "button = widgets.Button(\n",
    "    description='Submit',\n",
    "    button_style='success',\n",
    ")\n",
    "\n",
    "output = widgets.Output()\n",
    "with output:\n",
    "    display(Markdown(technical_procedure_template))\n",
    "\n",
    "def on_button_clicked(b):\n",
    "    with output:\n",
    "        output.clear_output()\n",
    "        technical_procedure_template = generate_string(text.value)\n",
    "        # print(technical_procedure_template)\n",
    "        display(Markdown(technical_procedure_template))\n",
    "button.on_click(on_button_clicked)"
   ]
  },
  {
   "cell_type": "code",
   "execution_count": 6,
   "id": "e7b388b7-95c3-48e0-a5f1-532fc135e213",
   "metadata": {},
   "outputs": [
    {
     "data": {
      "application/vnd.jupyter.widget-view+json": {
       "model_id": "2283e023b1764bc3846f572418b4dccc",
       "version_major": 2,
       "version_minor": 0
      },
      "text/plain": [
       "Text(value='', description='Mad Libs Topic:', placeholder='Type something...', style=TextStyle(description_wid…"
      ]
     },
     "metadata": {},
     "output_type": "display_data"
    },
    {
     "data": {
      "application/vnd.jupyter.widget-view+json": {
       "model_id": "ba7c5522388a4d4ba7b4a707dc3dca2c",
       "version_major": 2,
       "version_minor": 0
      },
      "text/plain": [
       "Button(button_style='success', description='Submit', style=ButtonStyle())"
      ]
     },
     "metadata": {},
     "output_type": "display_data"
    },
    {
     "data": {
      "application/vnd.jupyter.widget-view+json": {
       "model_id": "75032fd7ac634a7a96df123b3704259f",
       "version_major": 2,
       "version_minor": 0
      },
      "text/plain": [
       "Output()"
      ]
     },
     "metadata": {},
     "output_type": "display_data"
    }
   ],
   "source": [
    "display(text, button, output)"
   ]
  }
 ],
 "metadata": {
  "kernelspec": {
   "display_name": "Python 3 (ipykernel)",
   "language": "python",
   "name": "python3"
  },
  "language_info": {
   "codemirror_mode": {
    "name": "ipython",
    "version": 3
   },
   "file_extension": ".py",
   "mimetype": "text/x-python",
   "name": "python",
   "nbconvert_exporter": "python",
   "pygments_lexer": "ipython3",
   "version": "3.11.4"
  }
 },
 "nbformat": 4,
 "nbformat_minor": 5
}
